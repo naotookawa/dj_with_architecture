{
 "cells": [
  {
   "cell_type": "code",
   "execution_count": 4,
   "metadata": {},
   "outputs": [
    {
     "name": "stdout",
     "output_type": "stream",
     "text": [
      "Playing environment audio\n"
     ]
    }
   ],
   "source": [
    "# サンプリングレートとチャンネル数\n",
    "samplerate = 44100\n",
    "channels = 1\n",
    "\n",
    "def callback(indata, outdata, frames, time, status):\n",
    "    if status:\n",
    "        print(status)\n",
    "    # インプットデータをそのままアウトプットデータにコピー\n",
    "    outdata[:] = indata\n",
    "\n",
    "async def play_audio():\n",
    "    # 非同期で実行するためにストリームを別スレッドで開始\n",
    "    with sd.Stream(samplerate=samplerate, channels=channels, callback=callback):\n",
    "        print(\"Playing environment audio\")\n",
    "        await asyncio.sleep(5)  # 非同期スリープで5秒間再生\n",
    "\n",
    "# 非同期イベントループを開始して関数を実行\n",
    "await play_audio()"
   ]
  },
  {
   "cell_type": "code",
   "execution_count": 1,
   "metadata": {},
   "outputs": [],
   "source": [
    "from pydub import AudioSegment"
   ]
  },
  {
   "cell_type": "code",
   "execution_count": 6,
   "metadata": {},
   "outputs": [],
   "source": [
    "audio_test = AudioSegment.from_file(\"audio_1.mp3\")"
   ]
  },
  {
   "cell_type": "code",
   "execution_count": 7,
   "metadata": {},
   "outputs": [
    {
     "name": "stdout",
     "output_type": "stream",
     "text": [
      "Sampling rate: 44100 Hz\n",
      "Channels: 2\n"
     ]
    }
   ],
   "source": [
    "print(f\"Sampling rate: {audio_test.frame_rate} Hz\")\n",
    "print(f\"Channels: {audio_test.channels}\")"
   ]
  },
  {
   "cell_type": "code",
   "execution_count": 8,
   "metadata": {},
   "outputs": [],
   "source": [
    "one_second = audio_test[:1000]"
   ]
  },
  {
   "cell_type": "code",
   "execution_count": 9,
   "metadata": {},
   "outputs": [],
   "source": [
    "samples = one_second.get_array_of_samples()"
   ]
  },
  {
   "cell_type": "code",
   "execution_count": 10,
   "metadata": {},
   "outputs": [
    {
     "data": {
      "text/plain": [
       "(88200, array('h', [-1, 0, -1, -1, -1, -1, 0, -1, 0, 0]))"
      ]
     },
     "execution_count": 10,
     "metadata": {},
     "output_type": "execute_result"
    }
   ],
   "source": [
    "len(samples), samples[:10]"
   ]
  },
  {
   "cell_type": "code",
   "execution_count": 11,
   "metadata": {},
   "outputs": [],
   "source": [
    "np_samples = np.array(samples)"
   ]
  },
  {
   "cell_type": "markdown",
   "metadata": {},
   "source": [
    "ここから241118"
   ]
  },
  {
   "cell_type": "code",
   "execution_count": 5,
   "metadata": {},
   "outputs": [],
   "source": [
    "#demo用の備え付け音源を.\n",
    "audio_files = [\"audio_1.mp3\", \"audio_2.mp3\", \"audio_3.mp3\"]\n",
    "audio_list = list(map(AudioSegment.from_file, audio_files))\n"
   ]
  },
  {
   "cell_type": "code",
   "execution_count": null,
   "metadata": {},
   "outputs": [
    {
     "ename": "NameError",
     "evalue": "name 'Request' is not defined",
     "output_type": "error",
     "traceback": [
      "\u001b[0;31m---------------------------------------------------------------------------\u001b[0m",
      "\u001b[0;31mNameError\u001b[0m                                 Traceback (most recent call last)",
      "Cell \u001b[0;32mIn[6], line 1\u001b[0m\n\u001b[0;32m----> 1\u001b[0m \u001b[38;5;28;01masync\u001b[39;00m \u001b[38;5;28;01mdef\u001b[39;00m \u001b[38;5;21mstart_playing_test\u001b[39m(data: \u001b[43mRequest\u001b[49m):\n\u001b[1;32m      2\u001b[0m     volume_data \u001b[38;5;241m=\u001b[39m \u001b[38;5;28;01mawait\u001b[39;00m data\u001b[38;5;241m.\u001b[39mjson()\n\u001b[1;32m      4\u001b[0m     combined_audio \u001b[38;5;241m=\u001b[39m \u001b[38;5;28;01mNone\u001b[39;00m\n",
      "\u001b[0;31mNameError\u001b[0m: name 'Request' is not defined"
     ]
    }
   ],
   "source": [
    "# combined_audio = None\n",
    "\n",
    "# for i, file in enumerate(audio_files):\n",
    "#     audio = audio_list[i]\n",
    "\n",
    "#     audio = audio + volume_data[f\"mic{i+1}\"]\n",
    "#         if combined_audio is None:\n",
    "#             combined_audio = audio\n",
    "#         else:\n",
    "#             combined_audio = combined_audio.overlay(audio)\n",
    "\n",
    "#     audio_array = np.array(combined_audio.get_array_of_samples())\n",
    "#     sd.play(audio_array, samplerate=combined_audio.frame_rate)\n",
    "\n",
    "#     return {\"status\": \"success\", \"message\": \"Test audio started playing\"}"
   ]
  },
  {
   "cell_type": "code",
   "execution_count": null,
   "metadata": {},
   "outputs": [],
   "source": [
    "#demo用の備え付け音源を.\n",
    "audio_files = [\"audio_1.mp3\", \"audio_2.mp3\", \"audio_3.mp3\"]\n",
    "audio_list = list(map(AudioSegment.from_file, audio_files))\n",
    "\n",
    "audio_test = audio_list[0]\n",
    "audio_test = audio_test + 10\n",
    "audio_array = np.array(audio_test.get_array_of_samples())\n",
    "# sd.play(audio_array, samplerate=audio_test.frame_rate)"
   ]
  },
  {
   "cell_type": "code",
   "execution_count": 12,
   "metadata": {},
   "outputs": [],
   "source": [
    "audio_test = audio_test + 100"
   ]
  },
  {
   "cell_type": "code",
   "execution_count": 15,
   "metadata": {},
   "outputs": [],
   "source": [
    "import streamlit as st"
   ]
  },
  {
   "cell_type": "code",
   "execution_count": null,
   "metadata": {},
   "outputs": [
    {
     "name": "stderr",
     "output_type": "stream",
     "text": [
      "2024-11-18 17:47:04.396 WARNING streamlit.runtime.scriptrunner_utils.script_run_context: Thread 'MainThread': missing ScriptRunContext! This warning can be ignored when running in bare mode.\n",
      "2024-11-18 17:47:04.478 \n",
      "  \u001b[33m\u001b[1mWarning:\u001b[0m to view this Streamlit app on a browser, run it with the following\n",
      "  command:\n",
      "\n",
      "    streamlit run /opt/anaconda3/envs/what_is_red/lib/python3.12/site-packages/ipykernel_launcher.py [ARGUMENTS]\n",
      "2024-11-18 17:47:04.478 Thread 'MainThread': missing ScriptRunContext! This warning can be ignored when running in bare mode.\n",
      "2024-11-18 17:47:04.479 Thread 'MainThread': missing ScriptRunContext! This warning can be ignored when running in bare mode.\n",
      "2024-11-18 17:47:04.479 Thread 'MainThread': missing ScriptRunContext! This warning can be ignored when running in bare mode.\n",
      "2024-11-18 17:47:04.480 Thread 'MainThread': missing ScriptRunContext! This warning can be ignored when running in bare mode.\n",
      "2024-11-18 17:47:04.481 Thread 'MainThread': missing ScriptRunContext! This warning can be ignored when running in bare mode.\n",
      "2024-11-18 17:47:04.481 Thread 'MainThread': missing ScriptRunContext! This warning can be ignored when running in bare mode.\n",
      "2024-11-18 17:47:04.637 Thread 'MainThread': missing ScriptRunContext! This warning can be ignored when running in bare mode.\n",
      "2024-11-18 17:47:04.638 Thread 'MainThread': missing ScriptRunContext! This warning can be ignored when running in bare mode.\n",
      "2024-11-18 17:47:04.638 Thread 'MainThread': missing ScriptRunContext! This warning can be ignored when running in bare mode.\n",
      "2024-11-18 17:47:04.639 Thread 'MainThread': missing ScriptRunContext! This warning can be ignored when running in bare mode.\n",
      "2024-11-18 17:47:04.640 Thread 'MainThread': missing ScriptRunContext! This warning can be ignored when running in bare mode.\n"
     ]
    }
   ],
   "source": [
    "# 音量調整の関数\n",
    "def adjust_volume(audio, gain_db:int):\n",
    "    return audio + gain_db\n",
    "\n",
    "# サンプルレート\n",
    "samplerate = audio_test.frame_rate\n",
    "\n",
    "# Streamlit UIの設定\n",
    "st.title(\"リアルタイム音量調整\")\n",
    "\n",
    "# スライダーを使って音量を調整\n",
    "volume = st.slider(\"音量 (dB)\", -30, 30, 0)\n",
    "\n",
    "# 音源の音量調整\n",
    "adjusted_audio = adjust_volume(audio_test, volume)\n",
    "\n",
    "# 音声を再生\n",
    "audio_array = np.array(adjusted_audio.get_array_of_samples())\n",
    "\n",
    "# 再生ボタン\n",
    "if st.button(\"再生\"):\n",
    "    sd.play(audio_array, samplerate=samplerate)"
   ]
  },
  {
   "cell_type": "code",
   "execution_count": 23,
   "metadata": {},
   "outputs": [
    {
     "name": "stdout",
     "output_type": "stream",
     "text": [
      "Sampling rate: 44100 Hz\n"
     ]
    }
   ],
   "source": [
    "samplerate = audio_test.frame_rate\n",
    "print(f\"Sampling rate: {samplerate} Hz\")\n",
    "\n",
    "# 音量調整の関数\n",
    "def adjust_volume(audio, gain_db: int):\n",
    "    return audio + gain_db\n",
    "\n",
    "# 音声を再生する関数\n",
    "def play_audio(audio, volume):\n",
    "    # 初期の音量調整\n",
    "    adjusted_audio = adjust_volume(audio, volume)\n",
    "    audio_array = np.array(adjusted_audio.get_array_of_samples())\n",
    "    \n",
    "    # 再生中に音量を変更するためのループ\n",
    "    stream = sd.OutputStream(samplerate=samplerate, channels=1, dtype='int16')\n",
    "    stream.start()\n",
    "    \n",
    "    # 音声の再生\n",
    "    stream.write(audio_array)\n",
    "    \n",
    "    # 音量変更を監視し、リアルタイムで音量変更\n",
    "    while True:\n",
    "        new_volume = volume_slider_value  # 現在の音量（グローバル変数）\n",
    "        if new_volume != volume:\n",
    "            adjusted_audio = adjust_volume(audio, new_volume)\n",
    "            audio_array = np.array(adjusted_audio.get_array_of_samples())\n",
    "            stream.write(audio_array)\n",
    "            volume = new_volume\n",
    "        time.sleep(0.1)  # 音量変更をチェックする頻度"
   ]
  },
  {
   "cell_type": "code",
   "execution_count": 19,
   "metadata": {},
   "outputs": [],
   "source": [
    "# 音量スライダーを使って音量を調整\n",
    "volume_slider_value = 0"
   ]
  },
  {
   "cell_type": "code",
   "execution_count": null,
   "metadata": {},
   "outputs": [],
   "source": [
    "threading.Thread(target=play_audio, args=(audio_test, volume_slider_value)).start()\n"
   ]
  },
  {
   "cell_type": "code",
   "execution_count": null,
   "metadata": {},
   "outputs": [],
   "source": [
    "def monitor_data(data, current_data):\n",
    "    while True:\n",
    "        new_data = data\n",
    "        if new_data != current_data:\n",
    "            current_data = new_data\n",
    "        print(data)\n",
    "        time.sleep(1)"
   ]
  },
  {
   "cell_type": "code",
   "execution_count": 34,
   "metadata": {},
   "outputs": [],
   "source": [
    "data = 5"
   ]
  },
  {
   "cell_type": "code",
   "execution_count": 2,
   "metadata": {},
   "outputs": [],
   "source": [
    "import sounddevice as sd\n",
    "import numpy as np\n",
    "import matplotlib.pyplot as plt\n",
    "from pydub import AudioSegment\n",
    "import asyncio\n",
    "import streamlit as st\n",
    "import threading\n",
    "import time\n",
    "from pydantic import BaseModel"
   ]
  },
  {
   "cell_type": "code",
   "execution_count": null,
   "metadata": {},
   "outputs": [],
   "source": [
    "# threading.Thread(target=monitor_data, args=(data,)).start()"
   ]
  },
  {
   "cell_type": "code",
   "execution_count": 2,
   "metadata": {},
   "outputs": [],
   "source": [
    "#demo用の備え付け音源を.\n",
    "audio_files = [\"audio_1.mp3\", \"audio_2.mp3\", \"audio_3.mp3\"]\n",
    "audio_list = list(map(AudioSegment.from_file, audio_files))\n",
    "\n",
    "samplerate = audio_list[0].frame_rate\n",
    "\n",
    "def play_audio(audio):\n",
    "    audio_array = np.array(audio.get_array_of_samples())\n",
    "    \n",
    "    # 再生中に音量を変更するためのループ\n",
    "    stream = sd.OutputStream(samplerate=samplerate, channels=1, dtype='int16')\n",
    "    stream.start()\n",
    "    \n",
    "    # 音声の再生\n",
    "    stream.write(audio_array)\n",
    "\n",
    "samplerate = audio_list[0].frame_rate\n"
   ]
  },
  {
   "cell_type": "code",
   "execution_count": null,
   "metadata": {},
   "outputs": [],
   "source": []
  },
  {
   "cell_type": "code",
   "execution_count": 3,
   "metadata": {},
   "outputs": [],
   "source": [
    "samplerate = audio_list[0].frame_rate\n",
    "\n",
    "# play_audio(audio_list[0])"
   ]
  },
  {
   "cell_type": "code",
   "execution_count": 3,
   "metadata": {},
   "outputs": [],
   "source": [
    "for audio in audio_list:\n",
    "    threading.Thread(target=play_audio, args=(audio,)).start()"
   ]
  },
  {
   "cell_type": "code",
   "execution_count": null,
   "metadata": {},
   "outputs": [],
   "source": [
    "threading.Thread(target=play_audio, args=(audio_list[0],)).start()\n",
    "threading.Thread(target=play_audio, args=(audio_list[1],)).start()\n",
    "\n"
   ]
  },
  {
   "cell_type": "code",
   "execution_count": null,
   "metadata": {},
   "outputs": [],
   "source": [
    "import numpy as np\n",
    "import time\n",
    "import threading\n",
    "from pydub import AudioSegment\n",
    "from pydub.playback import play\n",
    "from pydantic import BaseModel\n",
    "import sounddevice as sd\n",
    "import asyncio\n",
    "\n",
    "\n",
    "# 音量データ周りの処理.\n",
    "class VolumeData(BaseModel):\n",
    "    mic0: int\n",
    "    mic1: int\n",
    "    mic2: int\n",
    "\n",
    "current_volume:VolumeData = VolumeData(mic0=0,\n",
    "                                       mic1=0,\n",
    "                                       mic2=0\n",
    "                                       )\n",
    "\n",
    "\n",
    "#demo用の備え付け音源.\n",
    "audio_files = [\"audio_1.mp3\",\n",
    "            #    \"audio_2.mp3\",\n",
    "            #    \"audio_3.mp3\"\n",
    "               ]\n",
    "\n",
    "audio_list = list(map(AudioSegment.from_file, audio_files))\n",
    "\n",
    "# 音量調整の関数\n",
    "def adjust_volume(audio, gain_db: int):\n",
    "    return audio + gain_db\n",
    "\n",
    "# 音声を再生する関数\n",
    "def play_audio(audio, volume: int):\n",
    "    # 初期の音量調整\n",
    "    adjusted_audio = adjust_volume(audio, volume)\n",
    "    audio_array = np.array(adjusted_audio.get_array_of_samples())\n",
    "    \n",
    "    # 再生中に音量を変更するためのループ\n",
    "    stream = sd.OutputStream(samplerate=samplerate, channels=1, dtype='int16')\n",
    "    stream.start()\n",
    "    \n",
    "    # 音声の再生\n",
    "    stream.write(audio_array)\n",
    "    \n",
    "    # 音量変更を監視し、リアルタイムで音量変更\n",
    "    while True:\n",
    "        new_volume = current_volume  # 現在の音量（グローバル変数）\n",
    "        if new_volume != volume:\n",
    "            adjusted_audio = adjust_volume(audio, new_volume)\n",
    "            audio_array = np.array(adjusted_audio.get_array_of_samples())\n",
    "            stream.write(audio_array)\n",
    "            volume = new_volume\n",
    "        time.sleep(0.1)  # 音量変更をチェックする頻度\n",
    "\n",
    "async def stream_audio(i):\n",
    "    global current_volume\n",
    "    audio = audio_list[i]\n",
    "    samplerate = audio.frame_rate\n",
    "    initial_volume = current_volume.mic0\n",
    "    \n",
    "    # チャンクサイズを100ms（0.1秒）に設定\n",
    "    chunk_size = 100  # サンプル数\n",
    "    audio_array = np.array(audio.get_array_of_samples())\n",
    "    \n",
    "    # モノラル用にリシェイプ\n",
    "    if audio.channels > 1:\n",
    "        audio_array = audio_array.reshape((-1, audio.channels))[:, 0]\n",
    "    \n",
    "    # 出力ストリームを作成\n",
    "    stream = sd.OutputStream(samplerate=samplerate, channels=1, dtype='int16')\n",
    "    stream.start()\n",
    "    \n",
    "    # チャンクごとに再生\n",
    "    for start in range(0, len(audio_array), chunk_size):\n",
    "        end = start + chunk_size\n",
    "        chunk = audio_array[start:end]\n",
    "        \n",
    "        # 音量を調整\n",
    "        adjusted_audio = adjust_volume(AudioSegment(chunk.tobytes(), frame_rate=samplerate, sample_width=2, channels=1), current_volume.mic0-initial_volume)\n",
    "        adjusted_array = np.array(adjusted_audio.get_array_of_samples())\n",
    "        \n",
    "        # ストリームに書き込む\n",
    "        stream.write(adjusted_array)\n",
    "        \n",
    "        # 音量変更を監視\n",
    "        if current_volume.mic0 != initial_volume:\n",
    "            initial_volume = current_volume.mic0  # 次のチャンクに新しい音量を適用\n",
    "    \n",
    "@app.post(\"/play\")\n",
    "async def start_playing():\n",
    "    threading.Thread(target=stream_audio, args=(0,)).start()\n",
    "    return {\"status\": \"success\", \"message\": \"Audio started playing\"}"
   ]
  },
  {
   "cell_type": "code",
   "execution_count": 19,
   "metadata": {},
   "outputs": [],
   "source": [
    "class VolumeData(BaseModel):\n",
    "    mic0: int\n",
    "    mic1: int\n",
    "    mic2: int\n",
    "\n",
    "current_volume:VolumeData = VolumeData(mic0=0,\n",
    "                                       mic1=1,\n",
    "                                       mic2=2\n",
    "                                       )"
   ]
  },
  {
   "cell_type": "code",
   "execution_count": 21,
   "metadata": {},
   "outputs": [
    {
     "data": {
      "text/plain": [
       "0"
      ]
     },
     "execution_count": 21,
     "metadata": {},
     "output_type": "execute_result"
    }
   ],
   "source": [
    "i = 0\n",
    "getattr(current_volume, f\"mic{i}\")"
   ]
  },
  {
   "cell_type": "code",
   "execution_count": 17,
   "metadata": {},
   "outputs": [
    {
     "data": {
      "text/plain": [
       "0"
      ]
     },
     "execution_count": 17,
     "metadata": {},
     "output_type": "execute_result"
    }
   ],
   "source": [
    "getattr(current_volume, f\"mic{i}\")"
   ]
  },
  {
   "cell_type": "code",
   "execution_count": 13,
   "metadata": {},
   "outputs": [],
   "source": [
    "import threading\n",
    "import time"
   ]
  },
  {
   "cell_type": "code",
   "execution_count": null,
   "metadata": {},
   "outputs": [],
   "source": [
    "def udon_func():\n",
    "    time.sleep(5)\n",
    "    print(\"うどん\")\n",
    "\n",
    "# def print_ramen():\n",
    "#     while True:\n",
    "#         print(\"ラーメン\")\n",
    "#         time.sleep(1)\n",
    "\n",
    "# def print_pizza():\n",
    "#     while True:\n",
    "#         print(\"ピザ\")\n",
    "#         time.sleep(1)"
   ]
  },
  {
   "cell_type": "code",
   "execution_count": null,
   "metadata": {},
   "outputs": [
    {
     "name": "stdout",
     "output_type": "stream",
     "text": [
      "うどん\n",
      "うどん\n",
      "うどん\n",
      "うどん\n",
      "うどん\n",
      "うどん終了\n"
     ]
    }
   ],
   "source": [
    "flags = [False, False, False]\n",
    "\n",
    "def udon_func():\n",
    "    global flags\n",
    "    while not flags[1]:\n",
    "        print(\"うどん\")\n",
    "        time.sleep(1)\n",
    "\n",
    "def stop_udon():\n",
    "    global flags\n",
    "    time.sleep(5)\n",
    "    flags[1] = True\n",
    "\n",
    "def check_udon():\n",
    "    while True:\n",
    "        if flags[1]:\n",
    "            print(\"うどん終了\")\n",
    "            break\n",
    "        else:\n",
    "            continue\n",
    "\n",
    "threading.Thread(target=udon_func).start()\n",
    "udon_stop = threading.Thread(target=stop_udon)\n",
    "udon_stop.start()\n",
    "check_udon()\n"
   ]
  },
  {
   "cell_type": "code",
   "execution_count": 4,
   "metadata": {},
   "outputs": [
    {
     "data": {
      "text/plain": [
       "False"
      ]
     },
     "execution_count": 4,
     "metadata": {},
     "output_type": "execute_result"
    }
   ],
   "source": [
    "udon.is_alive()"
   ]
  },
  {
   "cell_type": "code",
   "execution_count": null,
   "metadata": {},
   "outputs": [],
   "source": []
  }
 ],
 "metadata": {
  "kernelspec": {
   "display_name": "what_is_red",
   "language": "python",
   "name": "python3"
  },
  "language_info": {
   "codemirror_mode": {
    "name": "ipython",
    "version": 3
   },
   "file_extension": ".py",
   "mimetype": "text/x-python",
   "name": "python",
   "nbconvert_exporter": "python",
   "pygments_lexer": "ipython3",
   "version": "3.12.2"
  }
 },
 "nbformat": 4,
 "nbformat_minor": 2
}
